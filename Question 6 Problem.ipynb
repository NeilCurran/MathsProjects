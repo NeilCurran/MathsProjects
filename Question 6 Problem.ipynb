{
 "cells": [
  {
   "cell_type": "markdown",
   "metadata": {},
   "source": [
    "# Infamous Question 6 Problem"
   ]
  },
  {
   "cell_type": "code",
   "execution_count": null,
   "metadata": {},
   "outputs": [],
   "source": [
    "lowerRange = input(\"Enter lower range (e.g. 0): \")\n",
    "lowerRange = int(lowerRange)\n",
    "upperRange = input(\"Enter upper range (e.g. 100): \")\n",
    "upperRange = int(upperRange)"
   ]
  },
  {
   "cell_type": "code",
   "execution_count": null,
   "metadata": {},
   "outputs": [],
   "source": [
    "# import itertools as it\n",
    "import math\n",
    "import matplotlib.pyplot as plt\n",
    "\n",
    "a = range(lowerRange,upperRange)\n",
    "b = range(lowerRange,upperRange)\n",
    "\n",
    "# Create empty sets\n",
    "x = []\n",
    "y = []\n",
    "\n",
    "# create a loop that will run through the product of a,b and if the square root of the formula is an integer\n",
    "# it will append it i to x and j to y.\n",
    "for i, j in it.product(a, b):\n",
    "    if (math.sqrt(((i**2) + (j**2)) / ((i * j) + 1))).is_integer():\n",
    "        print(i, j)\n",
    "        x.append(i)\n",
    "        y.append(j)"
   ]
  },
  {
   "cell_type": "code",
   "execution_count": null,
   "metadata": {},
   "outputs": [],
   "source": [
    "# plot x and y on a graph\n",
    "plt.scatter(x, y, alpha=0.3)\n",
    "plt.title('Infamous Question 6 Problem')\n",
    "plt.show()"
   ]
  }
 ],
 "metadata": {
  "kernelspec": {
   "display_name": "Python 3",
   "language": "python",
   "name": "python3"
  },
  "language_info": {
   "codemirror_mode": {
    "name": "ipython",
    "version": 3
   },
   "file_extension": ".py",
   "mimetype": "text/x-python",
   "name": "python",
   "nbconvert_exporter": "python",
   "pygments_lexer": "ipython3",
   "version": "3.8.1"
  }
 },
 "nbformat": 4,
 "nbformat_minor": 4
}
